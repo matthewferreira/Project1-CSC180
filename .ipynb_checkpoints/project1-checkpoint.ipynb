{
 "cells": [
  {
   "cell_type": "code",
   "execution_count": 13,
   "metadata": {},
   "outputs": [],
   "source": [
    "import json\n",
    "import csv\n",
    "import pandas as pd\n",
    "\n",
    "outfile = open(\"review_stars.tsv\", 'w')\n",
    "sfile = csv.writer(outfile, delimiter=\"\\t\", quoting=csv.QUOTE_MINIMAL)\n",
    "sfile.writerow(['business_id', 'stars', 'text'])\n",
    "\n",
    "with open('data/yelp_academic_dataset_review.json', encoding=\"utf-8\") as f:\n",
    "    for line in f:\n",
    "        row = json.loads(line)\n",
    "        sfile.writerow([row['business_id'], row['stars'], (row['text']).encode('utf-8')])\n",
    "\n",
    "outfile.close()"
   ]
  },
  {
   "cell_type": "code",
   "execution_count": 14,
   "metadata": {},
   "outputs": [
    {
     "name": "stdout",
     "output_type": "stream",
     "text": [
      "              business_id  stars  \\\n",
      "0  buF9druCkbuXLX526sGELQ    4.0   \n",
      "1  RA4V8pr014UyUbDvI-LW2A    4.0   \n",
      "2  _sS2LBIGNT5NQb6PD1Vtjw    5.0   \n",
      "3  0AzLzHfOJgL7ROwhdww2ew    2.0   \n",
      "4  8zehGz9jnxPqXtOc7KaJxA    4.0   \n",
      "\n",
      "                                                text  \n",
      "0  b\"Apparently Prides Osteria had a rough summer...  \n",
      "1  b'This store is pretty good. Not as great as W...  \n",
      "2  b\"I called WVM on the recommendation of a coup...  \n",
      "3  b\"I've stayed at many Marriott and Renaissance...  \n",
      "4  b\"The food is always great here. The service f...  \n"
     ]
    }
   ],
   "source": [
    "df= pd.read_csv('review_stars.tsv', delimiter =\"\\t\", encoding=\"utf-8\")\n",
    "print(df.head())"
   ]
  }
 ],
 "metadata": {
  "interpreter": {
   "hash": "00d97aa7742505a1d40e72afe88795d34a7c326375c01286fdda43484fe6d6dd"
  },
  "kernelspec": {
   "display_name": "Python 3",
   "language": "python",
   "name": "python3"
  },
  "language_info": {
   "codemirror_mode": {
    "name": "ipython",
    "version": 3
   },
   "file_extension": ".py",
   "mimetype": "text/x-python",
   "name": "python",
   "nbconvert_exporter": "python",
   "pygments_lexer": "ipython3",
   "version": "3.8.8"
  }
 },
 "nbformat": 4,
 "nbformat_minor": 2
}
