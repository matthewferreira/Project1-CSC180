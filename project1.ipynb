{
 "cells": [
  {
   "cell_type": "code",
   "execution_count": 1,
   "source": [
    "import json\r\n",
    "import csv\r\n",
    "import pandas as pd\r\n",
    "df= pd.read_csv('review_stars.tsv', delimiter =\"\\t\", encoding=\"utf-8\")\r\n",
    "print(df.head())\r\n"
   ],
   "outputs": [
    {
     "output_type": "stream",
     "name": "stdout",
     "text": [
      "              business_id  stars  \\\n",
      "0  buF9druCkbuXLX526sGELQ    4.0   \n",
      "1  RA4V8pr014UyUbDvI-LW2A    4.0   \n",
      "2  _sS2LBIGNT5NQb6PD1Vtjw    5.0   \n",
      "3  0AzLzHfOJgL7ROwhdww2ew    2.0   \n",
      "4  8zehGz9jnxPqXtOc7KaJxA    4.0   \n",
      "\n",
      "                                                text  \n",
      "0  b\"Apparently Prides Osteria had a rough summer...  \n",
      "1  b'This store is pretty good. Not as great as W...  \n",
      "2  b\"I called WVM on the recommendation of a coup...  \n",
      "3  b\"I've stayed at many Marriott and Renaissance...  \n",
      "4  b\"The food is always great here. The service f...  \n"
     ]
    }
   ],
   "metadata": {}
  },
  {
   "cell_type": "code",
   "execution_count": 2,
   "source": [
    "df_review_agg = df.groupby('business_id')['text'].sum()\r\n",
    "print(df_review_agg.head())"
   ],
   "outputs": [
    {
     "output_type": "stream",
     "name": "stdout",
     "text": [
      "business_id\n",
      "--0DF12EMHYI8XIgoFha6A    b\"Being from Chicago originally and moving thi...\n",
      "--0r8K_AQ4FZfLsX3ZYRDA    b'Quick and reasonably priced service. Dropped...\n",
      "--0zrn43LEaB4jUWTQH_Bg    b'-Rude staff and management. \\n-They do not v...\n",
      "--164t1nclzzmca7eDiJMw    b'Banh mi was pretty weak.'b'Incredibly good f...\n",
      "--2aF9NhXnNVpDV0KS3xBQ    b'I recently moved to Delaney Park, and Spence...\n",
      "Name: text, dtype: object\n"
     ]
    }
   ],
   "metadata": {}
  }
 ],
 "metadata": {
  "interpreter": {
   "hash": "00d97aa7742505a1d40e72afe88795d34a7c326375c01286fdda43484fe6d6dd"
  },
  "kernelspec": {
   "display_name": "Python 3",
   "language": "python",
   "name": "python3"
  },
  "language_info": {
   "codemirror_mode": {
    "name": "ipython",
    "version": 3
   },
   "file_extension": ".py",
   "mimetype": "text/x-python",
   "name": "python",
   "nbconvert_exporter": "python",
   "pygments_lexer": "ipython3",
   "version": "3.8.8"
  }
 },
 "nbformat": 4,
 "nbformat_minor": 2
}