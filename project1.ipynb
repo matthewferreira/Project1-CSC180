{
 "cells": [
  {
   "cell_type": "code",
   "execution_count": 1,
   "source": [
    "import json\r\n",
    "import csv\r\n",
    "import pandas as pd\r\n",
    "#outfile = open(\"business.tsv\", 'w')\r\n",
    "#sfile = csv.writer(outfile, delimiter =\"\\t\", quoting=csv.QUOTE_MINIMAL)\r\n",
    "#sfile.writerow(['business_id','review_count', 'name'])\r\n",
    "#with open('data/yelp_academic_dataset_business.json', encoding=\"utf-8\") as f:\r\n",
    "#        for line in f:\r\n",
    "#            row = json.loads(line)\r\n",
    "#            # some special char must be encoded in 'utf-8'\r\n",
    "#            sfile.writerow([row['business_id'], row['review_count'], (row['name']).encode('utf-8')])\r\n",
    "#outfile.close()\r\n",
    "\r\n",
    "business_df = pd.read_csv('business.tsv', delimiter =\"\\t\", encoding=\"utf-8\")\r\n",
    "review_df = pd.read_csv('review_stars.tsv', delimiter =\"\\t\", encoding=\"utf-8\")\r\n",
    "print(review_df.shape)\r\n",
    "print(review_df.head())\r\n",
    "print('XXXXXXXXXXXXXX')\r\n",
    "print(business_df.shape)\r\n",
    "print(business_df.head())\r\n"
   ],
   "outputs": [
    {
     "output_type": "stream",
     "name": "stdout",
     "text": [
      "(8635403, 3)\n",
      "              business_id  stars  \\\n",
      "0  buF9druCkbuXLX526sGELQ    4.0   \n",
      "1  RA4V8pr014UyUbDvI-LW2A    4.0   \n",
      "2  _sS2LBIGNT5NQb6PD1Vtjw    5.0   \n",
      "3  0AzLzHfOJgL7ROwhdww2ew    2.0   \n",
      "4  8zehGz9jnxPqXtOc7KaJxA    4.0   \n",
      "\n",
      "                                                text  \n",
      "0  b\"Apparently Prides Osteria had a rough summer...  \n",
      "1  b'This store is pretty good. Not as great as W...  \n",
      "2  b\"I called WVM on the recommendation of a coup...  \n",
      "3  b\"I've stayed at many Marriott and Renaissance...  \n",
      "4  b\"The food is always great here. The service f...  \n",
      "XXXXXXXXXXXXXX\n",
      "(160585, 3)\n",
      "              business_id  review_count                        name\n",
      "0  6iYb2HFDywm3zjuRg0shjw            86      b'Oskar Blues Taproom'\n",
      "1  tCbdrRPZA0oiIYSmHG3J0w           126  b'Flying Elephants at PDX'\n",
      "2  bvN78flM8NLprQ1a1y5dRg            13           b'The Reclaimory'\n",
      "3  oaepsyvc0J17qwi8cfrOWg             8              b'Great Clips'\n",
      "4  PE9uqAjdw0E4-8mjGl3wVA            14        b'Crossfit Terminus'\n"
     ]
    }
   ],
   "metadata": {}
  },
  {
   "cell_type": "code",
   "execution_count": 2,
   "source": [
    "#removing businesses with < 20 reviews\r\n",
    "business_df20 = business_df[business_df['review_count'] > 19]\r\n",
    "print(business_df20.shape)\r\n",
    "print(business_df20.head(50))"
   ],
   "outputs": [
    {
     "output_type": "stream",
     "name": "stdout",
     "text": [
      "(73031, 3)\n",
      "                business_id  review_count  \\\n",
      "0    6iYb2HFDywm3zjuRg0shjw            86   \n",
      "1    tCbdrRPZA0oiIYSmHG3J0w           126   \n",
      "5    D4JtQNTI4X3KcbzacDJsMw           169   \n",
      "8    N3_Gs3DnX4k9SgpwJxdEfw            30   \n",
      "12   HPA_qyMEddpAEtFof02ixg            39   \n",
      "13   ufCxltuh56FF4-ZFZ6cVhg           135   \n",
      "17   MUeUyqhMja-nnmvgP4rBBg            55   \n",
      "23   j68RDnvOaYEwGcY9cTEHpA           406   \n",
      "24   nTIhpR7MhsALPwg_Hh14EA           139   \n",
      "26   hcRxdDg7DYryCxCoI8ySQA            24   \n",
      "28   arEXRZYu8220bFBJ3VAh3A           170   \n",
      "29   jGennaZUr2MsJyRhijNBfA           856   \n",
      "32   uMGsjQGT35rX4AAt1Hp9og            25   \n",
      "33   QciD6FbNklaJvUbLExD4Nw            76   \n",
      "39   s8eTWEtW5WcnL2kUxrOVmw            48   \n",
      "41   NRPemqVb4qpWFF0Avq_6OQ           395   \n",
      "42   TRToVIbaVtu1KOE8DR9gCw           102   \n",
      "43   Yyym58vWvlRPuMCOICWRBw            27   \n",
      "44   BFd5KnVmxkFH3WjbydJI3Q            21   \n",
      "46   D2VwAQBBxfm_l9rYesXaxQ            32   \n",
      "49   1bT6-v29xAoA0ELXF1Ncjw            23   \n",
      "50   5PsApTz-WqhF_-8mfqGtGw           158   \n",
      "52   Of6xu3pY3eHe2yhiyz2dvg            44   \n",
      "53   djolOChjDtxniurUFP_SXA            47   \n",
      "56   XymxusqpIsZFmN_QNQW_fw            22   \n",
      "60   Nhw7on5kevbomM-GzRXy_A           112   \n",
      "61   bRsDZ44CD3uhGnRY3NeQhQ            46   \n",
      "64   sSX4BXohwSfMJVhHn4nh2w            20   \n",
      "65   z-0oY7VxQMQw3JHvdPejrA            21   \n",
      "67   buTr0hMiyDbjQvFJgm-Eew           131   \n",
      "70   8iXIaO3OYdnOHkxabiqdiQ            98   \n",
      "73   iX6_gILIkLUpO1r1BzwfvA            31   \n",
      "74   Mf9io8WkMyGautXuSSfGTg            63   \n",
      "75   3ME_CSB1bo4F0QMhQRUeOA            74   \n",
      "76   MEC2RzMZwPxzz_9rr0Cpog            22   \n",
      "82   zml5p2_hrHNDumKqsWGvfA            20   \n",
      "83   oT8WhLz_LP-2GPZa4vPzjw            53   \n",
      "86   Q2vefh0tGhtCGQDK1FI7cw           231   \n",
      "88   EGZ0fhB9k0ZlI5sHda4vFw            36   \n",
      "89   WuoNSCjFBH4OQTSNGc4l6w           138   \n",
      "92   jI0NfabCGtRZWH5S0jl6Pw            26   \n",
      "94   ZA3u0Nu5V6TqkcYh8U0zdg           131   \n",
      "97   gmLYiyg_hW_DVQWEPgfRQA            21   \n",
      "103  AzAT-AWII5PJVPIGB37tGQ            80   \n",
      "104  aTAe3uMYBEwU0FbTMFEI5g            26   \n",
      "106  52f_ztOVodIoV43Qt-R4rA            28   \n",
      "113  XDv29FffNd2dWnDOtZP-wg           635   \n",
      "118  jpUJ8_gnWRLKxDCzDhmEgQ            42   \n",
      "119  3_RuVmLNa-1GNHOMvl_bsg           242   \n",
      "122  7f4z43MHAV-l-LsRYsasAg           105   \n",
      "\n",
      "                                                 name  \n",
      "0                              b'Oskar Blues Taproom'  \n",
      "1                          b'Flying Elephants at PDX'  \n",
      "5                              b'Bob Likes Thai Food'  \n",
      "8                        b'Lane Wells Jewelry Repair'  \n",
      "12                             b\"Mr G's Pizza & Subs\"  \n",
      "13                                  b\"Sister Honey's\"  \n",
      "17                          b'Saratoga Resort Villas'  \n",
      "23                                 b'Pittock Mansion'  \n",
      "24               b'DoubleTree by Hilton Hotel Austin'  \n",
      "26                               b'Longwood Galleria'  \n",
      "28                             b\"Blake's On The Park\"  \n",
      "29                                 b'Legal Sea Foods'  \n",
      "32                        b'Laurelhurst Chiropractic'  \n",
      "33                                            b'ARGO'  \n",
      "39         b'Austin Regional Clinic: ARC Quarry Lake'  \n",
      "41                     b'Eurasia Sushi Bar & Seafood'  \n",
      "42                                 b'Texas Roadhouse'  \n",
      "43                       b\"Shirley's Tape And Shears\"  \n",
      "44                                      b\"Sam's Club\"  \n",
      "46                                b'The Daily Stroll'  \n",
      "49                       b'MARTA - Doraville Station'  \n",
      "50                                      b'Cafe Yumm!'  \n",
      "52                                       b'Taco Bell'  \n",
      "53                                   b'Panda Express'  \n",
      "56    b'Austin Community College - Rio Grande Campus'  \n",
      "60                  b'Texas Global Passport Services'  \n",
      "61                                         b\"Wendy's\"  \n",
      "64              b'Lumber Liquidators - East Portland'  \n",
      "65                      b'Olmecas Mexican Restaurant'  \n",
      "67                                        b'JP Licks'  \n",
      "70                                   b'The Posh Spot'  \n",
      "73                                    b'Park Theatre'  \n",
      "74          b'Los Potrillos Mexican Restaurant & Bar'  \n",
      "75                              b\"Yan's China Bistro\"  \n",
      "76                  b'Reliable Appliance Repair Crew'  \n",
      "82                    b'Community Thrift and Vintage'  \n",
      "83                              b'Grand Villa Casino'  \n",
      "86                                   b'Piece of Cake'  \n",
      "88                           b\"Andy's Frozen Custard\"  \n",
      "89                b'Toscana European Day Spa & Salon'  \n",
      "92   b'Sabor Latino - Puerto Rican Cuisine & Gallery'  \n",
      "94                           b'B Street Coffee House'  \n",
      "97                                    b'Viuda Bistro'  \n",
      "103                              b'Bernard Watch Co.'  \n",
      "104                                   b'Urban Pantry'  \n",
      "106                            b'Taqueria So Mexican'  \n",
      "113                                  b'Sapporo Ramen'  \n",
      "118                           b'About Women by Women'  \n",
      "119                                b'Something Fishy'  \n",
      "122                                      b'VietRiver'  \n"
     ]
    }
   ],
   "metadata": {}
  },
  {
   "cell_type": "code",
   "execution_count": 3,
   "source": [
    "# sum all text for each business and group by business id\r\n",
    "df_review_agg = review_df.groupby('business_id')['text'].sum()\r\n",
    "df_star_avg = review_df.groupby('business_id')['stars'].mean()\r\n",
    "print(df_review_agg.shape)\r\n",
    "print(df_review_agg.head(10))\r\n",
    "print(df_star_avg.shape)\r\n",
    "print(df_star_avg.head(10))"
   ],
   "outputs": [
    {
     "output_type": "stream",
     "name": "stdout",
     "text": [
      "(160585,)\n",
      "business_id\n",
      "--0DF12EMHYI8XIgoFha6A    b\"Being from Chicago originally and moving thi...\n",
      "--0r8K_AQ4FZfLsX3ZYRDA    b'Quick and reasonably priced service. Dropped...\n",
      "--0zrn43LEaB4jUWTQH_Bg    b'-Rude staff and management. \\n-They do not v...\n",
      "--164t1nclzzmca7eDiJMw    b'Banh mi was pretty weak.'b'Incredibly good f...\n",
      "--2aF9NhXnNVpDV0KS3xBQ    b'I recently moved to Delaney Park, and Spence...\n",
      "--2mEJ63SC_8_08_jGgVIg    b'I love this place!!! Always get my nails don...\n",
      "--4INAzazK6omgf3mY3dfw    b'These guys were great. Excellent communicati...\n",
      "--6COJIAjkQwSUZci_4PJQ    b'Casually comfortable and pleasant environmen...\n",
      "--DzGwfuJH12DjYz95VW0Q    b\"Pretty standard for a UHaul place - I have b...\n",
      "--EoF6KmeDuki2vBWhPqCw    b'I\\'ve been with rogers for 4 years now, and ...\n",
      "Name: text, dtype: object\n",
      "(160585,)\n",
      "business_id\n",
      "--0DF12EMHYI8XIgoFha6A    4.333333\n",
      "--0r8K_AQ4FZfLsX3ZYRDA    5.000000\n",
      "--0zrn43LEaB4jUWTQH_Bg    1.000000\n",
      "--164t1nclzzmca7eDiJMw    3.877551\n",
      "--2aF9NhXnNVpDV0KS3xBQ    2.555556\n",
      "--2mEJ63SC_8_08_jGgVIg    2.142857\n",
      "--4INAzazK6omgf3mY3dfw    3.500000\n",
      "--6COJIAjkQwSUZci_4PJQ    4.107843\n",
      "--DzGwfuJH12DjYz95VW0Q    2.266667\n",
      "--EoF6KmeDuki2vBWhPqCw    2.800000\n",
      "Name: stars, dtype: float64\n"
     ]
    }
   ],
   "metadata": {}
  },
  {
   "cell_type": "code",
   "execution_count": 29,
   "source": [
    "# businessdf20 has business_id column\r\n",
    "# review agg has business_id index\r\n",
    "business_review_agg_df = pd.merge(df_review_agg, business_df20, left_index=True, right_on='business_id')\r\n",
    "business_review_agg_df = business_review_agg_df.set_index('business_id')\r\n",
    "print(business_review_agg_df.columns) \r\n",
    "names_df = business_review_agg_df['name']\r\n",
    "business_review_agg_df.drop('name', 1, inplace=True)\r\n",
    "business_review_agg_df.drop('review_count', 1, inplace=True)\r\n",
    "series = business_review_agg_df.squeeze('columns')\r\n",
    "\r\n",
    "# convert to numpy array for sklearn preparation\r\n",
    "#business_review_agg_arr = business_review_agg_df.to_numpy()\r\n",
    "print(business_review_agg_df.shape)\r\n",
    "print(business_review_agg_df.columns)\r\n",
    "print(business_review_agg_df.head(10))\r\n"
   ],
   "outputs": [
    {
     "output_type": "stream",
     "name": "stdout",
     "text": [
      "Index(['text', 'review_count', 'name'], dtype='object')\n",
      "<class 'pandas.core.series.Series'>\n",
      "(73031, 1)\n",
      "Index(['text'], dtype='object')\n",
      "                                                                     text\n",
      "business_id                                                              \n",
      "--164t1nclzzmca7eDiJMw  b'Banh mi was pretty weak.'b'Incredibly good f...\n",
      "--6COJIAjkQwSUZci_4PJQ  b'Casually comfortable and pleasant environmen...\n",
      "--JKSSgnfoOjVDFGv692BA  b'Fast service. $15 bucks and I was outta ther...\n",
      "--Q3mAcX9t63f7Xcbn7LVA  b'this place was truly amazing place!from the ...\n",
      "--TEGvhgrXwHnRjiFbK08Q  b\"I have been getting facials from Danica for ...\n",
      "--ToovR1Ob2e131ZifC9Eg  b\"When you realize adulting is real. I had to ...\n",
      "--UNNdnHRhsyFUbDgumdtQ  b\"Le Pigeon is a dining experience that's a lo...\n",
      "--bbZa1KPYSmW0X4o3TUQw  b\"I can't believe this place only got three an...\n",
      "--hkbIWgBKBOZq4VcNwdhQ  b'We have been loyal Night Shift fans since th...\n",
      "--iiZK8pW7kC2Tr2PdQrQw  b\"I've been pretty satisfied with this place. ...\n"
     ]
    }
   ],
   "metadata": {}
  },
  {
   "cell_type": "code",
   "execution_count": 20,
   "source": [
    "print(names_df.head(10))"
   ],
   "outputs": [
    {
     "output_type": "stream",
     "name": "stdout",
     "text": [
      "business_id\n",
      "--164t1nclzzmca7eDiJMw                    b'Me So Hungry'\n",
      "--6COJIAjkQwSUZci_4PJQ                          b'Medley'\n",
      "--JKSSgnfoOjVDFGv692BA              b'Guerrero Tire Shop'\n",
      "--Q3mAcX9t63f7Xcbn7LVA                       b'The Royce'\n",
      "--TEGvhgrXwHnRjiFbK08Q    b'Skingredient by Danica Green'\n",
      "--ToovR1Ob2e131ZifC9Eg            b'A & D Automotive Inc'\n",
      "--UNNdnHRhsyFUbDgumdtQ                       b'Le Pigeon'\n",
      "--bbZa1KPYSmW0X4o3TUQw                         b'Sorella'\n",
      "--hkbIWgBKBOZq4VcNwdhQ             b'Night Shift Brewing'\n",
      "--iiZK8pW7kC2Tr2PdQrQw              b'Diamond Nail Salon'\n",
      "Name: name, dtype: object\n"
     ]
    }
   ],
   "metadata": {}
  },
  {
   "cell_type": "code",
   "execution_count": 30,
   "source": [
    "bus_reviewagg_staravg_df = pd.merge(business_review_agg_df, df_star_avg, on='business_id')\r\n",
    "#bus_reviewagg_staravg_df = bus_reviewagg_staravg_df.drop('name', 1, inplace=True)\r\n",
    "print(bus_reviewagg_staravg_df.shape)\r\n",
    "print(bus_reviewagg_staravg_df.head(10))"
   ],
   "outputs": [
    {
     "output_type": "stream",
     "name": "stdout",
     "text": [
      "(73031, 2)\n",
      "                                                                     text  \\\n",
      "business_id                                                                 \n",
      "--164t1nclzzmca7eDiJMw  b'Banh mi was pretty weak.'b'Incredibly good f...   \n",
      "--6COJIAjkQwSUZci_4PJQ  b'Casually comfortable and pleasant environmen...   \n",
      "--JKSSgnfoOjVDFGv692BA  b'Fast service. $15 bucks and I was outta ther...   \n",
      "--Q3mAcX9t63f7Xcbn7LVA  b'this place was truly amazing place!from the ...   \n",
      "--TEGvhgrXwHnRjiFbK08Q  b\"I have been getting facials from Danica for ...   \n",
      "--ToovR1Ob2e131ZifC9Eg  b\"When you realize adulting is real. I had to ...   \n",
      "--UNNdnHRhsyFUbDgumdtQ  b\"Le Pigeon is a dining experience that's a lo...   \n",
      "--bbZa1KPYSmW0X4o3TUQw  b\"I can't believe this place only got three an...   \n",
      "--hkbIWgBKBOZq4VcNwdhQ  b'We have been loyal Night Shift fans since th...   \n",
      "--iiZK8pW7kC2Tr2PdQrQw  b\"I've been pretty satisfied with this place. ...   \n",
      "\n",
      "                           stars  \n",
      "business_id                       \n",
      "--164t1nclzzmca7eDiJMw  3.877551  \n",
      "--6COJIAjkQwSUZci_4PJQ  4.107843  \n",
      "--JKSSgnfoOjVDFGv692BA  4.040000  \n",
      "--Q3mAcX9t63f7Xcbn7LVA  4.361111  \n",
      "--TEGvhgrXwHnRjiFbK08Q  5.000000  \n",
      "--ToovR1Ob2e131ZifC9Eg  4.680000  \n",
      "--UNNdnHRhsyFUbDgumdtQ  4.390995  \n",
      "--bbZa1KPYSmW0X4o3TUQw  4.148936  \n",
      "--hkbIWgBKBOZq4VcNwdhQ  4.301587  \n",
      "--iiZK8pW7kC2Tr2PdQrQw  3.164557  \n"
     ]
    }
   ],
   "metadata": {}
  },
  {
   "cell_type": "code",
   "execution_count": 31,
   "source": [
    "bus_reviewagg_staravg_df = pd.merge(bus_reviewagg_staravg_df, names_df, on='business_id')\r\n",
    "print(bus_reviewagg_staravg_df.shape)\r\n",
    "print(bus_reviewagg_staravg_df.columns)\r\n",
    "print(bus_reviewagg_staravg_df.head(10))"
   ],
   "outputs": [
    {
     "output_type": "stream",
     "name": "stdout",
     "text": [
      "(73031, 3)\n",
      "Index(['text', 'stars', 'name'], dtype='object')\n",
      "                                                                     text  \\\n",
      "business_id                                                                 \n",
      "--164t1nclzzmca7eDiJMw  b'Banh mi was pretty weak.'b'Incredibly good f...   \n",
      "--6COJIAjkQwSUZci_4PJQ  b'Casually comfortable and pleasant environmen...   \n",
      "--JKSSgnfoOjVDFGv692BA  b'Fast service. $15 bucks and I was outta ther...   \n",
      "--Q3mAcX9t63f7Xcbn7LVA  b'this place was truly amazing place!from the ...   \n",
      "--TEGvhgrXwHnRjiFbK08Q  b\"I have been getting facials from Danica for ...   \n",
      "--ToovR1Ob2e131ZifC9Eg  b\"When you realize adulting is real. I had to ...   \n",
      "--UNNdnHRhsyFUbDgumdtQ  b\"Le Pigeon is a dining experience that's a lo...   \n",
      "--bbZa1KPYSmW0X4o3TUQw  b\"I can't believe this place only got three an...   \n",
      "--hkbIWgBKBOZq4VcNwdhQ  b'We have been loyal Night Shift fans since th...   \n",
      "--iiZK8pW7kC2Tr2PdQrQw  b\"I've been pretty satisfied with this place. ...   \n",
      "\n",
      "                           stars                             name  \n",
      "business_id                                                        \n",
      "--164t1nclzzmca7eDiJMw  3.877551                  b'Me So Hungry'  \n",
      "--6COJIAjkQwSUZci_4PJQ  4.107843                        b'Medley'  \n",
      "--JKSSgnfoOjVDFGv692BA  4.040000            b'Guerrero Tire Shop'  \n",
      "--Q3mAcX9t63f7Xcbn7LVA  4.361111                     b'The Royce'  \n",
      "--TEGvhgrXwHnRjiFbK08Q  5.000000  b'Skingredient by Danica Green'  \n",
      "--ToovR1Ob2e131ZifC9Eg  4.680000          b'A & D Automotive Inc'  \n",
      "--UNNdnHRhsyFUbDgumdtQ  4.390995                     b'Le Pigeon'  \n",
      "--bbZa1KPYSmW0X4o3TUQw  4.148936                       b'Sorella'  \n",
      "--hkbIWgBKBOZq4VcNwdhQ  4.301587           b'Night Shift Brewing'  \n",
      "--iiZK8pW7kC2Tr2PdQrQw  3.164557            b'Diamond Nail Salon'  \n"
     ]
    }
   ],
   "metadata": {}
  },
  {
   "cell_type": "code",
   "execution_count": 6,
   "source": [
    "df_ready_for_sklearn = pd.DataFrame({'business_id': series.index, 'all_reviews': series.values})\r\n",
    "print(df_ready_for_sklearn.shape)\r\n",
    "print(df_ready_for_sklearn.head(10))"
   ],
   "outputs": [
    {
     "output_type": "stream",
     "name": "stdout",
     "text": [
      "(73031, 2)\n",
      "              business_id                                        all_reviews\n",
      "0  --164t1nclzzmca7eDiJMw  b'Banh mi was pretty weak.'b'Incredibly good f...\n",
      "1  --6COJIAjkQwSUZci_4PJQ  b'Casually comfortable and pleasant environmen...\n",
      "2  --JKSSgnfoOjVDFGv692BA  b'Fast service. $15 bucks and I was outta ther...\n",
      "3  --Q3mAcX9t63f7Xcbn7LVA  b'this place was truly amazing place!from the ...\n",
      "4  --TEGvhgrXwHnRjiFbK08Q  b\"I have been getting facials from Danica for ...\n",
      "5  --ToovR1Ob2e131ZifC9Eg  b\"When you realize adulting is real. I had to ...\n",
      "6  --UNNdnHRhsyFUbDgumdtQ  b\"Le Pigeon is a dining experience that's a lo...\n",
      "7  --bbZa1KPYSmW0X4o3TUQw  b\"I can't believe this place only got three an...\n",
      "8  --hkbIWgBKBOZq4VcNwdhQ  b'We have been loyal Night Shift fans since th...\n",
      "9  --iiZK8pW7kC2Tr2PdQrQw  b\"I've been pretty satisfied with this place. ...\n"
     ]
    }
   ],
   "metadata": {}
  },
  {
   "cell_type": "code",
   "execution_count": 7,
   "source": [
    "import sklearn.feature_extraction.text as sk_text\r\n",
    "\r\n",
    "vectorizer = sk_text.TfidfVectorizer(\r\n",
    "                              stop_words='english',\r\n",
    "                             max_features = 3000,\r\n",
    "                             min_df=75)\r\n",
    "\r\n",
    "\r\n",
    "#max_features:  build a vocabulary that only consider the top max_features features ordered by term frequency across the corpus.\r\n",
    "\r\n",
    "matrix = vectorizer.fit_transform(df_ready_for_sklearn.all_reviews)\r\n",
    "\r\n",
    "print(type(matrix))          # Compressed Sparse Row matrix\r\n",
    "#print(matrix.toarray())        #  convert it to numpy array"
   ],
   "outputs": [
    {
     "output_type": "stream",
     "name": "stdout",
     "text": [
      "<class 'scipy.sparse.csr.csr_matrix'>\n"
     ]
    }
   ],
   "metadata": {}
  },
  {
   "cell_type": "code",
   "execution_count": 8,
   "source": [
    "print(vectorizer.get_feature_names())"
   ],
   "outputs": [
    {
     "output_type": "stream",
     "name": "stdout",
     "text": [
      "['00', '000', '10', '100', '11', '12', '13', '14', '15', '16', '17', '18', '19', '1st', '20', '200', '21', '22', '24', '25', '2nd', '30', '300', '30pm', '35', '3rd', '40', '45', '4th', '50', '500', '60', '6pm', '70', '75', '7pm', '80', '90', '95', '99', 'able', 'absolute', 'absolutely', 'ac', 'accept', 'acceptable', 'access', 'accident', 'accommodate', 'accommodating', 'according', 'account', 'act', 'action', 'actual', 'actually', 'add', 'added', 'adding', 'addition', 'additional', 'address', 'adds', 'admit', 'adorable', 'adult', 'adults', 'advance', 'advantage', 'advertised', 'advice', 'afford', 'affordable', 'afraid', 'afternoon', 'age', 'ago', 'agree', 'agreed', 'ahead', 'aioli', 'air', 'airport', 'al', 'alcohol', 'ale', 'allergies', 'allow', 'allowed', 'almond', 'alot', 'alright', 'alternative', 'amazed', 'amazing', 'amazingly', 'ambiance', 'ambience', 'amenities', 'america', 'american', 'ample', 'angry', 'animal', 'animals', 'anniversary', 'annoyed', 'annoying', 'answer', 'answered', 'anymore', 'anytime', 'anyways', 'apart', 'apartment', 'apologetic', 'apologize', 'apologized', 'apology', 'app', 'apparently', 'appeared', 'appears', 'appetite', 'appetizer', 'appetizers', 'apple', 'appointment', 'appointments', 'appreciate', 'appreciated', 'approach', 'approached', 'appropriate', 'apps', 'area', 'areas', 'aren', 'arrival', 'arrive', 'arrived', 'arriving', 'art', 'artist', 'arugula', 'asian', 'aside', 'ask', 'asked', 'asking', 'asks', 'asparagus', 'ass', 'assortment', 'assume', 'assumed', 'assured', 'ate', 'atl', 'atlanta', 'atmosphere', 'attached', 'attempt', 'attended', 'attention', 'attentive', 'attitude', 'austin', 'authentic', 'auto', 'available', 'ave', 'average', 'avocado', 'avoid', 'aware', 'away', 'awesome', 'awful', 'awhile', 'awkward', 'baby', 'background', 'bacon', 'bad', 'bag', 'bagel', 'bagels', 'bags', 'baked', 'bakery', 'balance', 'balanced', 'ball', 'balls', 'banana', 'band', 'bang', 'banh', 'bank', 'bao', 'bar', 'barbecue', 'barely', 'barista', 'bars', 'bartender', 'bartenders', 'base', 'based', 'basic', 'basically', 'basil', 'basis', 'basket', 'bathroom', 'bathrooms', 'batter', 'battery', 'bay', 'bbq', 'bc', 'beach', 'bean', 'beans', 'beat', 'beautiful', 'beautifully', 'beauty', 'bed', 'bedroom', 'beds', 'beef', 'beer', 'beers', 'beet', 'began', 'begin', 'beginning', 'believe', 'bell', 'belly', 'benedict', 'benefit', 'best', 'bet', 'better', 'beverage', 'beverages', 'beware', 'bf', 'big', 'bigger', 'biggest', 'bike', 'bikes', 'birthday', 'biscuit', 'biscuits', 'bisque', 'bistro', 'bit', 'bite', 'bites', 'bits', 'bitter', 'black', 'blah', 'blame', 'bland', 'blast', 'blend', 'blew', 'block', 'blocks', 'blonde', 'blood', 'bloody', 'blow', 'blown', 'blue', 'blueberry', 'board', 'boat', 'bob', 'boba', 'body', 'boiled', 'bomb', 'bone', 'bonus', 'book', 'booked', 'booking', 'books', 'boot', 'booth', 'booths', 'boring', 'boston', 'bother', 'bothered', 'bottle', 'bottles', 'bought', 'boulder', 'bourbon', 'bowl', 'bowling', 'bowls', 'box', 'boxes', 'boy', 'boyfriend', 'boys', 'braised', 'brand', 'brazilian', 'bread', 'breads', 'break', 'breakfast', 'breast', 'brew', 'brewery', 'brews', 'brick', 'bridge', 'bright', 'bring', 'bringing', 'brings', 'brisket', 'broccoli', 'broke', 'broken', 'broth', 'brother', 'brought', 'brown', 'brownie', 'browns', 'brunch', 'brussel', 'brussels', 'btw', 'bubble', 'buck', 'buckhead', 'bucks', 'budget', 'buds', 'buffalo', 'buffet', 'build', 'building', 'built', 'bun', 'bunch', 'buns', 'burger', 'burgers', 'burned', 'burnt', 'burrito', 'burritos', 'bus', 'business', 'businesses', 'busy', 'butter', 'buttery', 'buy', 'buying', 'cab', 'cabbage', 'caesar', 'cafe', 'cafeteria', 'cajun', 'cake', 'cakes', 'calamari', 'california', 'called', 'calling', 'calls', 'calm', 'cambridge', 'came', 'campus', 'cancel', 'cancelled', 'candy', 'cannoli', 'car', 'caramel', 'card', 'cards', 'care', 'cared', 'careful', 'cares', 'caring', 'carne', 'carnitas', 'carpet', 'carrot', 'carrots', 'carry', 'cars', 'cart', 'carts', 'case', 'cash', 'cashier', 'casual', 'cat', 'catch', 'catfish', 'caught', 'cauliflower', 'cause', 'ceiling', 'celebrate', 'cell', 'center', 'central', 'certain', 'certainly', 'ceviche', 'chai', 'chain', 'chair', 'chairs', 'challenge', 'champagne', 'chance', 'change', 'changed', 'changes', 'changing', 'character', 'charge', 'charged', 'charges', 'charging', 'charm', 'charming', 'chat', 'chatting', 'cheap', 'cheaper', 'check', 'checked', 'checking', 'checks', 'cheddar', 'cheese', 'cheeseburger', 'cheesecake', 'cheeses', 'cheesy', 'chef', 'chefs', 'cherry', 'chewy', 'chicago', 'chick', 'chicken', 'child', 'children', 'chile', 'chili', 'chill', 'china', 'chinatown', 'chinese', 'chip', 'chipotle', 'chips', 'chocolate', 'choice', 'choices', 'choose', 'choosing', 'chop', 'chopped', 'chops', 'chorizo', 'chose', 'chowder', 'chris', 'christmas', 'chunks', 'cider', 'cilantro', 'cinnamon', 'city', 'claim', 'clam', 'clams', 'class', 'classes', 'classic', 'classy', 'clean', 'cleaned', 'cleaner', 'cleaning', 'cleanliness', 'clear', 'clearly', 'client', 'clients', 'clinic', 'close', 'closed', 'closer', 'closest', 'closing', 'clothes', 'clothing', 'club', 'coast', 'coat', 'cocktail', 'cocktails', 'coconut', 'cod', 'code', 'coffee', 'coke', 'cold', 'coleslaw', 'collection', 'college', 'color', 'colors', 'columbus', 'com', 'combination', 'combinations', 'combo', 'come', 'comes', 'comfort', 'comfortable', 'comfy', 'coming', 'comment', 'comments', 'common', 'communication', 'community', 'companies', 'company', 'comparable', 'compare', 'compared', 'comparison', 'complain', 'complained', 'complaining', 'complaint', 'complaints', 'complete', 'completed', 'completely', 'complex', 'complimentary', 'compliments', 'computer', 'concept', 'concern', 'concerned', 'concerns', 'condition', 'cone', 'conference', 'confirm', 'confirmed', 'confused', 'confusing', 'consider', 'considered', 'considering', 'consistency', 'consistent', 'consistently', 'constantly', 'construction', 'contact', 'contacted', 'container', 'continue', 'continued', 'contract', 'control', 'convenience', 'convenient', 'conveniently', 'conversation', 'cook', 'cooked', 'cookie', 'cookies', 'cooking', 'cooks', 'cool', 'corn', 'cornbread', 'corner', 'corporate', 'correct', 'correctly', 'cost', 'costs', 'couch', 'couldn', 'count', 'counter', 'country', 'couple', 'coupon', 'course', 'courses', 'court', 'courteous', 'cover', 'covered', 'covid', 'coworkers', 'cozy', 'crab', 'craft', 'cramped', 'crap', 'crappy', 'crave', 'craving', 'crawfish', 'crazy', 'cream', 'creamy', 'create', 'created', 'creative', 'credit', 'creme', 'crepe', 'crepes', 'crew', 'crisp', 'crispy', 'croissant', 'cross', 'crowd', 'crowded', 'crowds', 'crunch', 'crunchy', 'crust', 'cuban', 'cucumber', 'cuisine', 'cup', 'cupcake', 'cupcakes', 'cups', 'current', 'currently', 'curry', 'custard', 'custom', 'customer', 'customers', 'cut', 'cute', 'cuts', 'cutting', 'dad', 'daily', 'dairy', 'damage', 'damn', 'dan', 'dance', 'dancing', 'dark', 'darn', 'date', 'dates', 'daughter', 'david', 'day', 'days', 'dead', 'deal', 'dealer', 'dealership', 'dealing', 'deals', 'decent', 'decide', 'decided', 'decision', 'deck', 'decor', 'decorated', 'deep', 'def', 'definitely', 'deli', 'delicious', 'delight', 'delightful', 'delish', 'deliver', 'delivered', 'delivery', 'dental', 'dentist', 'department', 'depending', 'described', 'description', 'desert', 'deserve', 'deserves', 'design', 'designed', 'desired', 'desk', 'despite', 'dessert', 'desserts', 'destination', 'detailed', 'details', 'did', 'didn', 'didnt', 'die', 'diet', 'difference', 'different', 'difficult', 'dig', 'dim', 'dine', 'dined', 'diner', 'diners', 'dining', 'dinner', 'dinners', 'dip', 'dipping', 'direction', 'directly', 'dirty', 'disappoint', 'disappointed', 'disappointing', 'disappointment', 'discount', 'discovered', 'disgusting', 'dish', 'dishes', 'disney', 'display', 'distance', 'district', 'dive', 'diverse', 'divine', 'dj', 'doctor', 'doctors', 'does', 'doesn', 'dog', 'dogs', 'doing', 'dollar', 'dollars', 'don', 'dont', 'donut', 'donuts', 'door', 'doors', 'double', 'doubt', 'dough', 'doughnut', 'doughnuts', 'downhill', 'downside', 'downstairs', 'downtown', 'dozen', 'dr', 'draft', 'dream', 'dress', 'dressed', 'dresses', 'dressing', 'dried', 'drink', 'drinking', 'drinks', 'drive', 'driver', 'driving', 'drop', 'dropped', 'drove', 'drunk', 'dry', 'duck', 'dude', 'dumplings', 'earlier', 'early', 'earth', 'ease', 'easier', 'easily', 'east', 'easy', 'eat', 'eaten', 'eater', 'eating', 'eats', 'edge', 'edible', 'efficient', 'effort', 'egg', 'eggplant', 'eggs', 'el', 'elevator', 'email', 'emails', 'emergency', 'empanadas', 'employee', 'employees', 'enchiladas', 'encountered', 'end', 'ended', 'ends', 'energy', 'english', 'enjoy', 'enjoyable', 'enjoyed', 'enjoying', 'ensure', 'enter', 'entered', 'entering', 'entertaining', 'entertainment', 'entire', 'entirely', 'entrance', 'entree', 'entrees', 'environment', 'equally', 'equipment', 'escape', 'especially', 'espresso', 'essentially', 'establishment', 'establishments', 'estimate', 'evening', 'event', 'events', 'eventually', 'everybody', 'everyday', 'everytime', 'exact', 'exactly', 'exam', 'example', 'excellent', 'exception', 'exceptional', 'exchange', 'excited', 'exciting', 'excuse', 'expect', 'expectations', 'expected', 'expecting', 'expensive', 'experience', 'experienced', 'experiences', 'explain', 'explained', 'explaining', 'explanation', 'express', 'extensive', 'exterior', 'extra', 'extremely', 'eye', 'eyebrows', 'eyes', 'fabulous', 'face', 'facial', 'facility', 'fact', 'factor', 'factory', 'fail', 'failed', 'fair', 'fairly', 'fajitas', 'fake', 'falafel', 'fall', 'falling', 'familiar', 'families', 'family', 'famous', 'fan', 'fancy', 'fans', 'fantastic', 'far', 'fare', 'farm', 'fashion', 'fashioned', 'fast', 'faster', 'fat', 'father', 'fatty', 'fault', 'fav', 'fave', 'favor', 'favorite', 'favorites', 'favourite', 'features', 'fed', 'fee', 'feed', 'feedback', 'feel', 'feeling', 'feels', 'fees', 'feet', 'fell', 'fellow', 'felt', 'female', 'feta', 'fianc', 'fiance', 'figure', 'figured', 'filet', 'filled', 'filling', 'final', 'finally', 'finding', 'fine', 'finger', 'fingers', 'finish', 'finished', 'finishing', 'fish', 'fit', 'fitness', 'fix', 'fixed', 'flag', 'flaky', 'flat', 'flatbread', 'flavor', 'flavored', 'flavorful', 'flavorless', 'flavors', 'flavour', 'flavours', 'flight', 'floor', 'floors', 'florida', 'flour', 'flowers', 'fluffy', 'fly', 'flying', 'focus', 'folks', 'follow', 'followed', 'following', 'food', 'foodie', 'foods', 'foot', 'football', 'forced', 'forever', 'forget', 'forgot', 'forgotten', 'fork', 'form', 'forth', 'forward', 'freaking', 'free', 'french', 'frequent', 'frequently', 'fresh', 'freshly', 'friday', 'fridge', 'fried', 'friend', 'friendly', 'friends', 'fries', 'frosting', 'frozen', 'fruit', 'frustrated', 'frustrating', 'fry', 'fully', 'fun', 'funky', 'funny', 'furniture', 'fusion', 'future', 'game', 'games', 'garage', 'garbage', 'garden', 'garlic', 'gas', 'gate', 'gave', 'gel', 'gelato', 'gem', 'general', 'generally', 'generous', 'gentleman', 'genuine', 'genuinely', 'german', 'gets', 'getting', 'gf', 'giant', 'gift', 'ginger', 'girl', 'girlfriend', 'girls', 'given', 'gives', 'giving', 'glad', 'glass', 'glasses', 'gluten', 'gnocchi', 'goat', 'god', 'goes', 'going', 'gold', 'golden', 'gone', 'gonna', 'good', 'goodness', 'goods', 'gorgeous', 'got', 'gotta', 'gotten', 'gourmet', 'grab', 'grabbed', 'grand', 'granted', 'grass', 'grateful', 'gravy', 'grease', 'greasy', 'great', 'greatest', 'greek', 'green', 'greens', 'greet', 'greeted', 'grew', 'grill', 'grilled', 'grits', 'grocery', 'gross', 'ground', 'group', 'groupon', 'groups', 'growing', 'grown', 'guac', 'guacamole', 'guess', 'guest', 'guests', 'guide', 'guy', 'guys', 'gym', 'gyro', 'hadn', 'haha', 'hair', 'haircut', 'half', 'hall', 'ham', 'hamburger', 'hand', 'handed', 'handful', 'handle', 'handled', 'hands', 'hang', 'hanging', 'happen', 'happened', 'happening', 'happens', 'happier', 'happily', 'happy', 'hard', 'hardly', 'harvard', 'hash', 'hasn', 'hassle', 'hate', 'haven', 'having', 'hawaiian', 'head', 'headed', 'heading', 'heads', 'health', 'healthy', 'hear', 'heard', 'hearing', 'heart', 'hearty', 'heat', 'heated', 'heaven', 'heavenly', 'heavy', 'heck', 'held', 'hell', 'hello', 'help', 'helped', 'helpful', 'helping', 'helps', 'hey', 'hi', 'hidden', 'high', 'higher', 'highlight', 'highlights', 'highly', 'hill', 'hint', 'hip', 'hipster', 'hire', 'history', 'hit', 'hits', 'hold', 'holding', 'hole', 'holiday', 'holy', 'home', 'homemade', 'honest', 'honestly', 'honey', 'honor', 'hooked', 'hop', 'hope', 'hoped', 'hopefully', 'hopes', 'hoping', 'horrible', 'hospital', 'hospitality', 'host', 'hostess', 'hot', 'hotel', 'hotels', 'hour', 'hours', 'house', 'hubby', 'huge', 'human', 'hummus', 'hung', 'hungry', 'hurry', 'hurt', 'husband', 'hype', 'ice', 'iced', 'icing', 'id', 'idea', 'ideal', 'ignored', 'im', 'imagine', 'immediately', 'impeccable', 'important', 'importantly', 'impossible', 'impressed', 'impression', 'impressive', 'improve', 'improved', 'improvement', 'inch', 'include', 'included', 'includes', 'including', 'incredible', 'incredibly', 'indian', 'individual', 'indoor', 'industry', 'inedible', 'inexpensive', 'info', 'information', 'informative', 'informed', 'ingredients', 'initial', 'initially', 'insane', 'inside', 'insisted', 'inspection', 'inspired', 'install', 'installed', 'instead', 'insurance', 'interested', 'interesting', 'interior', 'internet', 'intimate', 'introduced', 'inviting', 'involved', 'ipa', 'irish', 'ish', 'island', 'isn', 'issue', 'issues', 'italian', 'italy', 'item', 'items', 'ive', 'jack', 'jalape', 'jalapeno', 'jam', 'japanese', 'jelly', 'jerk', 'jewelry', 'job', 'joe', 'john', 'joint', 'joints', 'joke', 'joy', 'judge', 'juice', 'juices', 'juicy', 'july', 'just', 'kale', 'keeping', 'keeps', 'kept', 'ketchup', 'key', 'keys', 'kick', 'kid', 'kidding', 'kids', 'kill', 'killer', 'kimchi', 'kind', 'kinda', 'kinds', 'king', 'kitchen', 'knew', 'knock', 'know', 'knowing', 'knowledgable', 'knowledge', 'knowledgeable', 'known', 'knows', 'korean', 'la', 'lack', 'lacked', 'lacking', 'ladies', 'lady', 'laid', 'lake', 'lamb', 'land', 'lane', 'large', 'larger', 'lasagna', 'late', 'lately', 'later', 'latte', 'law', 'layer', 'layout', 'lazy', 'learn', 'learned', 'lease', 'leather', 'leave', 'leaves', 'leaving', 'led', 'left', 'leftovers', 'leg', 'legit', 'legs', 'lemon', 'lemonade', 'length', 'let', 'lets', 'letting', 'lettuce', 'level', 'levels', 'lie', 'life', 'light', 'lighting', 'lightly', 'lights', 'like', 'liked', 'likely', 'likes', 'liking', 'lime', 'limited', 'line', 'lines', 'liquor', 'list', 'listed', 'listen', 'listened', 'listening', 'lit', 'literally', 'little', 'live', 'lived', 'lively', 'lives', 'living', 'll', 'lo', 'loaded', 'lobby', 'lobster', 'local', 'locally', 'locals', 'located', 'location', 'locations', 'lol', 'long', 'longer', 'look', 'looked', 'looking', 'looks', 'lose', 'lost', 'lot', 'lots', 'loud', 'lounge', 'love', 'loved', 'lovely', 'lover', 'lovers', 'loves', 'loving', 'low', 'lower', 'loyal', 'luck', 'luckily', 'lucky', 'lunch', 'ma', 'mac', 'macaroni', 'machine', 'machines', 'mad', 'magic', 'magical', 'mail', 'main', 'mainly', 'maintenance', 'major', 'majority', 'make', 'makes', 'maki', 'making', 'male', 'mall', 'man', 'manage', 'managed', 'management', 'manager', 'managers', 'mango', 'mani', 'manicure', 'manner', 'maple', 'margarita', 'margaritas', 'marinated', 'mark', 'market', 'martini', 'mary', 'masala', 'mashed', 'mask', 'massage', 'massages', 'massive', 'match', 'matcha', 'matter', 'max', 'maybe', 'mayo', 'meal', 'meals', 'mean', 'meaning', 'means', 'meant', 'meat', 'meatball', 'meatballs', 'meats', 'mechanic', 'medical', 'mediocre', 'mediterranean', 'medium', 'meet', 'meeting', 'meh', 'melt', 'melted', 'member', 'members', 'membership', 'memorable', 'men', 'mention', 'mentioned', 'menu', 'menus', 'mess', 'message', 'messed', 'messy', 'met', 'metal', 'mex', 'mexican', 'mi', 'michael', 'microwave', 'mid', 'middle', 'midnight', 'midtown', 'mike', 'mild', 'mile', 'miles', 'milk', 'million', 'mimosas', 'min', 'mind', 'mini', 'minimal', 'minimum', 'minor', 'mins', 'mint', 'minus', 'minute', 'minutes', 'miso', 'miss', 'missed', 'missing', 'mistake', 'mix', 'mixed', 'mocha', 'model', 'modern', 'moist', 'mom', 'moment', 'monday', 'money', 'month', 'monthly', 'months', 'mood', 'morning', 'mother', 'mouth', 'moved', 'movers', 'moves', 'movie', 'movies', 'moving', 'mozzarella', 'mr', 'muffin', 'multiple', 'museum', 'mushroom', 'mushrooms', 'mushy', 'music', 'mussels', 'mustard', 'n1', 'n2', 'n3', 'n4', 'n5', 'na', 'naan', 'nachos', 'nafter', 'nail', 'nails', 'nall', 'nalso', 'named', 'names', 'nand', 'nanyway', 'napkins', 'nas', 'nasty', 'nat', 'natural', 'nbut', 'ncons', 'ndefinitely', 'ndon', 'near', 'nearby', 'nearly', 'neat', 'necessary', 'neck', 'need', 'needed', 'needless', 'needs', 'negative', 'neighborhood', 'neighbors', 'nervous', 'neverything', 'new', 'news', 'nfirst', 'nfood', 'nfor', 'ngood', 'ngreat', 'nhe', 'nhowever', 'ni', 'nice', 'nicely', 'nicer', 'nicest', 'nif', 'night', 'nightmare', 'nights', 'nigiri', 'nin', 'nit', 'njust', 'nmy', 'nnext', 'nno', 'nnot', 'nnow', 'noh', 'noise', 'noisy', 'non', 'nonce', 'nonetheless', 'noodle', 'noodles', 'noon', 'nope', 'normal', 'normally', 'north', 'notch', 'note', 'noted', 'nother', 'notice', 'noticed', 'nour', 'noverall', 'nparking', 'npros', 'nservice', 'nshe', 'nso', 'nthank', 'nthanks', 'nthat', 'nthe', 'ntheir', 'nthen', 'nthere', 'nthey', 'nthis', 'nto', 'number', 'numerous', 'nupdate', 'nuts', 'nvery', 'nwe', 'nwell', 'nwhat', 'nwhen', 'nwhile', 'nwill', 'nwith', 'nwould', 'ny', 'nyc', 'nyou', 'obvious', 'obviously', 'occasion', 'occasionally', 'occasions', 'octopus', 'odd', 'offer', 'offered', 'offering', 'offerings', 'offers', 'office', 'oh', 'oil', 'oily', 'ok', 'okay', 'old', 'older', 'olive', 'olives', 'omelet', 'omelette', 'omg', 'ones', 'onion', 'onions', 'online', 'open', 'opened', 'opening', 'opinion', 'opportunity', 'opposite', 'opted', 'option', 'options', 'orange', 'order', 'ordered', 'ordering', 'orders', 'oregon', 'organic', 'organized', 'original', 'originally', 'orlando', 'outdoor', 'outside', 'outstanding', 'oven', 'overall', 'overcooked', 'overly', 'overpriced', 'overwhelmed', 'overwhelming', 'owned', 'owner', 'owners', 'oyster', 'oysters', 'oz', 'pack', 'package', 'packed', 'pad', 'page', 'paid', 'pain', 'paint', 'pair', 'paired', 'pan', 'pancake', 'pancakes', 'pants', 'paper', 'paperwork', 'par', 'parents', 'park', 'parked', 'parking', 'parks', 'parm', 'parmesan', 'particular', 'particularly', 'parties', 'partner', 'parts', 'party', 'pass', 'passed', 'passing', 'passion', 'past', 'pasta', 'pastor', 'pastries', 'pastry', 'patient', 'patients', 'patio', 'patrons', 'patty', 'pay', 'paying', 'payment', 'pdx', 'peach', 'peak', 'peanut', 'pearl', 'peas', 'pecan', 'pedi', 'pedicure', 'penny', 'people', 'pepper', 'pepperoni', 'peppers', 'perfect', 'perfection', 'perfectly', 'period', 'person', 'personable', 'personal', 'personality', 'personally', 'pesto', 'pet', 'phenomenal', 'philly', 'pho', 'phone', 'photo', 'photos', 'pick', 'picked', 'picking', 'pickle', 'pickled', 'pickles', 'pickup', 'picky', 'picnic', 'picture', 'pictures', 'pie', 'piece', 'pieces', 'pies', 'pig', 'pile', 'pineapple', 'pink', 'pint', 'piping', 'pita', 'pizza', 'pizzas', 'place', 'placed', 'places', 'plain', 'plan', 'planned', 'planning', 'plans', 'plantains', 'plastic', 'plate', 'plates', 'platter', 'play', 'played', 'playing', 'plaza', 'pleasant', 'pleasantly', 'pleased', 'pleasure', 'plentiful', 'plenty', 'plus', 'pm', 'poached', 'point', 'pointed', 'points', 'poke', 'policy', 'polish', 'polite', 'pool', 'poor', 'poorly', 'pop', 'popcorn', 'popped', 'popular', 'pork', 'portion', 'portions', 'portland', 'positive', 'possible', 'possibly', 'post', 'posted', 'pot', 'potato', 'potatoes', 'potential', 'pound', 'pour', 'poured', 'poutine', 'powder', 'power', 'practically', 'practice', 'pre', 'prefer', 'preference', 'preferred', 'premium', 'prepare', 'prepared', 'present', 'presentation', 'presented', 'pressure', 'pretentious', 'pretty', 'pretzel', 'previous', 'previously', 'price', 'priced', 'prices', 'pricey', 'pricing', 'pride', 'prime', 'prior', 'private', 'pro', 'probably', 'problem', 'problems', 'procedure', 'proceeded', 'process', 'produce', 'product', 'products', 'professional', 'professionalism', 'program', 'promise', 'promised', 'prompt', 'promptly', 'proper', 'properly', 'property', 'pros', 'prosciutto', 'protein', 'provide', 'provided', 'provides', 'providing', 'pub', 'public', 'pudding', 'pull', 'pulled', 'pumpkin', 'punch', 'purchase', 'purchased', 'purchasing', 'pure', 'push', 'pushy', 'puts', 'putting', 'quaint', 'quality', 'quantity', 'quesadilla', 'queso', 'question', 'questions', 'quick', 'quickly', 'quiet', 'quite', 'quote', 'quoted', 'rack', 'rain', 'rainy', 'raised', 'ramen', 'ran', 'ranch', 'random', 'range', 'rare', 'rarely', 'raspberry', 'rate', 'rated', 'rating', 'ratio', 'rave', 'ravioli', 'raw', 'reach', 'reached', 'read', 'reading', 'ready', 'real', 'realize', 'realized', 'really', 'reason', 'reasonable', 'reasonably', 'reasons', 'recall', 'receipt', 'receive', 'received', 'receiving', 'recent', 'recently', 'receptionist', 'recipe', 'recommend', 'recommendation', 'recommendations', 'recommended', 'record', 'red', 'refill', 'refilled', 'refills', 'refreshing', 'refund', 'refused', 'regarding', 'regardless', 'register', 'regret', 'regular', 'regularly', 'regulars', 'relatively', 'relax', 'relaxed', 'relaxing', 'reliable', 'remember', 'remembered', 'reminded', 'reminds', 'remove', 'removed', 'rent', 'rental', 'rep', 'repair', 'repairs', 'repeat', 'replace', 'replaced', 'replacement', 'replied', 'report', 'request', 'requested', 'requests', 'required', 'research', 'reservation', 'reservations', 'reserved', 'resort', 'respect', 'responded', 'response', 'responsive', 'rest', 'restaurant', 'restaurants', 'restroom', 'result', 'results', 'return', 'returned', 'returning', 'review', 'reviewers', 'reviews', 'rib', 'ribeye', 'ribs', 'rice', 'rich', 'ricotta', 'ride', 'rides', 'ridiculous', 'ridiculously', 'right', 'ring', 'rings', 'rip', 'risk', 'risotto', 'river', 'road', 'roast', 'roasted', 'rock', 'rocks', 'roll', 'rolled', 'rolls', 'romantic', 'roof', 'room', 'rooms', 'root', 'rose', 'rough', 'round', 'row', 'rude', 'ruined', 'rules', 'run', 'running', 'runs', 'rush', 'rushed', 'sad', 'sadly', 'safe', 'safety', 'said', 'sake', 'salad', 'salads', 'sale', 'sales', 'salesman', 'salmon', 'salon', 'salons', 'salsa', 'salt', 'salted', 'salty', 'sam', 'sample', 'sampled', 'sampler', 'samples', 'san', 'sandwich', 'sandwiches', 'sangria', 'sashimi', 'sat', 'satisfied', 'satisfy', 'satisfying', 'saturday', 'sauce', 'sauces', 'sausage', 'save', 'saved', 'saving', 'savory', 'saw', 'say', 'saying', 'says', 'scallop', 'scallops', 'scene', 'schedule', 'scheduled', 'school', 'scoop', 'score', 'scratch', 'screen', 'screw', 'sea', 'seafood', 'search', 'searching', 'seared', 'season', 'seasonal', 'seasoned', 'seasoning', 'seat', 'seated', 'seating', 'seats', 'seattle', 'seaweed', 'second', 'seconds', 'secret', 'section', 'security', 'seeing', 'seen', 'select', 'selection', 'selections', 'self', 'sell', 'selling', 'semi', 'send', 'sense', 'sent', 'separate', 'seriously', 'serve', 'served', 'server', 'servers', 'serves', 'service', 'services', 'serving', 'sesame', 'session', 'set', 'sets', 'setting', 'settled', 'seven', 'shake', 'shame', 'shape', 'share', 'shared', 'sharing', 'shaved', 'shell', 'shirt', 'shirts', 'shit', 'shocked', 'shoes', 'shop', 'shopping', 'shops', 'short', 'shortly', 'shot', 'shots', 'shoulder', 'shouldn', 'shout', 'showed', 'shower', 'showing', 'shows', 'shredded', 'shrimp', 'shut', 'shuttle', 'sick', 'sides', 'sight', 'sign', 'signature', 'signed', 'signs', 'silverware', 'similar', 'simple', 'simply', 'single', 'sink', 'sip', 'sister', 'sit', 'site', 'sitting', 'situation', 'size', 'sized', 'sizes', 'skeptical', 'skills', 'skin', 'skip', 'slaw', 'sleep', 'slice', 'sliced', 'slices', 'sliders', 'slight', 'slightly', 'slow', 'small', 'smaller', 'smart', 'smell', 'smelled', 'smells', 'smile', 'smoke', 'smoked', 'smoking', 'smooth', 'smoothie', 'smoothies', 'snack', 'snacks', 'snow', 'social', 'soda', 'soft', 'soggy', 'sold', 'solid', 'somewhat', 'son', 'soon', 'sooo', 'soooo', 'sorry', 'sort', 'soul', 'sound', 'sounded', 'sounds', 'soup', 'soups', 'sour', 'south', 'southern', 'soy', 'spa', 'space', 'spacious', 'spaghetti', 'spanish', 'spare', 'speak', 'speaking', 'special', 'specials', 'specialty', 'specific', 'specifically', 'spectacular', 'speed', 'spend', 'spending', 'spent', 'spice', 'spiced', 'spices', 'spicy', 'spinach', 'split', 'spoke', 'spoon', 'sports', 'spot', 'spots', 'spread', 'spring', 'springs', 'sprouts', 'square', 'squash', 'squid', 'st', 'staff', 'stage', 'stairs', 'stale', 'stand', 'standard', 'standards', 'standing', 'stands', 'staple', 'star', 'starbucks', 'stars', 'start', 'started', 'starter', 'starting', 'starts', 'starving', 'state', 'stated', 'states', 'station', 'stay', 'stayed', 'staying', 'steak', 'steakhouse', 'steaks', 'steamed', 'steep', 'stellar', 'step', 'stepped', 'steps', 'stew', 'stick', 'sticks', 'sticky', 'stir', 'stock', 'stocked', 'stomach', 'stone', 'stood', 'stop', 'stopped', 'stopping', 'store', 'stores', 'story', 'straight', 'strange', 'straw', 'strawberries', 'strawberry', 'street', 'stress', 'strip', 'strips', 'strong', 'strongly', 'stuck', 'student', 'students', 'studio', 'study', 'stuff', 'stuffed', 'stumbled', 'stupid', 'style', 'stylist', 'sub', 'subpar', 'subs', 'suck', 'sucked', 'sucks', 'sugar', 'suggest', 'suggested', 'suggestion', 'suggestions', 'suit', 'sum', 'summer', 'sun', 'sunday', 'sunny', 'super', 'superb', 'support', 'suppose', 'supposed', 'sure', 'surgery', 'surprise', 'surprised', 'surprising', 'surprisingly', 'sushi', 'sweet', 'sweetness', 'switch', 'syrup', 'tab', 'table', 'tables', 'taco', 'tacos', 'tad', 'tag', 'tail', 'taken', 'takeout', 'takes', 'taking', 'talented', 'talk', 'talked', 'talking', 'tall', 'tangy', 'tap', 'tapas', 'target', 'tart', 'taste', 'tasted', 'tasteless', 'tastes', 'tasting', 'tasty', 'tattoo', 'tavern', 'tax', 'tea', 'team', 'teas', 'tech', 'technician', 'teeth', 'tell', 'telling', 'tells', 'temperature', 'tempura', 'tend', 'tender', 'tenders', 'tequila', 'teriyaki', 'terms', 'terrible', 'terribly', 'terrific', 'test', 'tex', 'texas', 'text', 'texture', 'thai', 'thank', 'thankfully', 'thanks', 'thats', 'theater', 'theirs', 'theme', 'thing', 'things', 'think', 'thinking', 'tho', 'thorough', 'thoroughly', 'thought', 'threw', 'thrilled', 'throw', 'thrown', 'thumbs', 'thursday', 'ticket', 'tickets', 'tight', 'tikka', 'till', 'time', 'timely', 'times', 'tiny', 'tip', 'tips', 'tiramisu', 'tire', 'tired', 'tires', 'toast', 'toasted', 'today', 'tofu', 'toilet', 'told', 'tom', 'tomato', 'tomatoes', 'tomorrow', 'ton', 'tone', 'tongue', 'tonight', 'tons', 'took', 'tooth', 'topped', 'topping', 'toppings', 'tops', 'tortilla', 'tortillas', 'total', 'totally', 'tots', 'touch', 'tough', 'tour', 'tourist', 'towels', 'town', 'track', 'trade', 'traditional', 'traffic', 'trail', 'trailer', 'train', 'trained', 'training', 'trash', 'travel', 'traveling', 'tray', 'treat', 'treated', 'treatment', 'treats', 'tree', 'trees', 'trendy', 'tried', 'trip', 'trips', 'trouble', 'truck', 'trucks', 'true', 'truffle', 'truly', 'trust', 'try', 'trying', 'tub', 'tucked', 'tuesday', 'tuna', 'turkey', 'turn', 'turned', 'turns', 'tv', 'tvs', 'twice', 'twist', 'type', 'types', 'typical', 'typically', 'uber', 'udon', 'unable', 'unacceptable', 'unbelievable', 'uncomfortable', 'undercooked', 'understand', 'understanding', 'understood', 'underwhelming', 'unfortunate', 'unfortunately', 'unique', 'unit', 'universal', 'unless', 'unlike', 'unlimited', 'unpleasant', 'unprofessional', 'unusual', 'update', 'updated', 'upgrade', 'upper', 'ups', 'upscale', 'upset', 'upstairs', 'urban', 'use', 'used', 'uses', 'using', 'usual', 'usually', 'vacation', 'valet', 'value', 'van', 'vancouver', 'vanilla', 'variety', 'various', 've', 'veal', 'veg', 'vegan', 'vegetable', 'vegetables', 'vegetarian', 'veggie', 'veggies', 'vehicle', 'velvet', 'venue', 'version', 'vet', 'vibe', 'video', 'vietnamese', 'view', 'views', 'village', 'vinegar', 'vintage', 'visit', 'visited', 'visiting', 'visits', 'vodka', 'voice', 'volume', 'vs', 'waffle', 'waffles', 'wait', 'waited', 'waiter', 'waiters', 'waiting', 'waitress', 'waitresses', 'waitstaff', 'walk', 'walked', 'walking', 'wall', 'wallet', 'walls', 'wanna', 'want', 'wanted', 'wanting', 'wants', 'warm', 'warned', 'warning', 'warranty', 'wash', 'washed', 'wasn', 'waste', 'wasted', 'watch', 'watched', 'watching', 'water', 'watered', 'watery', 'wax', 'waxing', 'way', 'ways', 'weak', 'wear', 'wearing', 'weather', 'website', 'wedding', 'wednesday', 'week', 'weekday', 'weekend', 'weekends', 'weekly', 'weeks', 'weight', 'weird', 'welcome', 'welcomed', 'welcoming', 'went', 'weren', 'west', 'wet', 'wheat', 'whipped', 'whiskey', 'white', 'wide', 'wife', 'wifi', 'wild', 'willing', 'win', 'window', 'windows', 'wine', 'wines', 'wing', 'wings', 'winner', 'winter', 'wise', 'wish', 'wished', 'woman', 'women', 'won', 'wonder', 'wonderful', 'wondering', 'wont', 'wood', 'word', 'words', 'work', 'worked', 'worker', 'workers', 'working', 'workout', 'works', 'world', 'worried', 'worry', 'worse', 'worst', 'worth', 'worthy', 'wouldn', 'wow', 'wrap', 'wrapped', 'wraps', 'write', 'writing', 'written', 'wrong', 'wrote', 'wtf', 'www', 'x80', 'x81', 'x82', 'x83', 'x84', 'x88', 'x89', 'x8b', 'x8c', 'x8d', 'x8f', 'x97', 'x9a', 'x9c', 'xa0', 'xa4', 'xa9', 'xa9e', 'xae', 'xaf', 'xb1o', 'xb8', 'xba', 'xbc', 'xc2', 'xc3', 'xe3', 'xe4', 'xe5', 'xe6', 'xe7', 'xe8', 'xe9', 'xef', 'ya', 'yard', 'yay', 'yeah', 'year', 'years', 'yelling', 'yellow', 'yelp', 'yelpers', 'yes', 'yesterday', 'yoga', 'yogurt', 'york', 'young', 'yum', 'yummy', 'zero']\n"
     ]
    }
   ],
   "metadata": {}
  },
  {
   "cell_type": "code",
   "execution_count": 9,
   "source": [
    "tfidf_data = matrix.toarray() "
   ],
   "outputs": [],
   "metadata": {}
  },
  {
   "cell_type": "code",
   "execution_count": 10,
   "source": [
    "stars_array = bus_reviewagg_staravg_df.stars.to_numpy()"
   ],
   "outputs": [],
   "metadata": {}
  },
  {
   "cell_type": "code",
   "execution_count": 11,
   "source": [
    "from sklearn.model_selection import train_test_split\r\n",
    "\r\n",
    "# Use the tfidf_data matrix for the X for the model. \r\n",
    "# Use the aligned star rating data for the Y in the model. \r\n",
    "x_train, x_test, y_train, y_test = train_test_split(tfidf_data, stars_array, test_size=0.20, random_state=45) "
   ],
   "outputs": [],
   "metadata": {}
  },
  {
   "cell_type": "code",
   "execution_count": 12,
   "source": [
    "import numpy as np\r\n",
    "\r\n",
    "from sklearn import metrics\r\n",
    "\r\n",
    "from tensorflow.keras.models import Sequential\r\n",
    "from tensorflow.keras.layers import Dense, Activation\r\n",
    "from tensorflow.keras.callbacks import EarlyStopping\r\n",
    "\r\n",
    "import shutil\r\n",
    "import os\r\n",
    "\r\n",
    "\r\n",
    "# Encode text values to dummy variables(i.e. [1,0,0],[0,1,0],[0,0,1] for red,green,blue)\r\n",
    "def encode_text_dummy(df, name):\r\n",
    "    dummies = pd.get_dummies(df[name])\r\n",
    "    for x in dummies.columns:\r\n",
    "        dummy_name = \"{}-{}\".format(name, x)\r\n",
    "        df[dummy_name] = dummies[x]\r\n",
    "    df.drop(name, axis=1, inplace=True)\r\n",
    "\r\n",
    "\r\n",
    "\r\n",
    "# Encode text values to indexes(i.e. [1],[2],[3] for red,green,blue).\r\n",
    "def encode_text_index(df, name):\r\n",
    "    le = preprocessing.LabelEncoder()\r\n",
    "    df[name] = le.fit_transform(df[name])\r\n",
    "    return le.classes_\r\n",
    "\r\n",
    "\r\n",
    "# Encode a numeric column as zscores\r\n",
    "def encode_numeric_zscore(df, name, mean=None, sd=None):\r\n",
    "    if mean is None:\r\n",
    "        mean = df[name].mean()\r\n",
    "\r\n",
    "    if sd is None:\r\n",
    "        sd = df[name].std()\r\n",
    "\r\n",
    "    df[name] = (df[name] - mean) / sd\r\n",
    "\r\n",
    "\r\n",
    "# Convert all missing values in the specified column to the median\r\n",
    "def missing_median(df, name):\r\n",
    "    med = df[name].median()\r\n",
    "    df[name] = df[name].fillna(med)\r\n",
    "\r\n",
    "\r\n",
    "# Convert all missing values in the specified column to the default\r\n",
    "def missing_default(df, name, default_value):\r\n",
    "    df[name] = df[name].fillna(default_value)\r\n",
    "\r\n",
    "\r\n",
    "# Convert a Pandas dataframe to the x,y inputs that TensorFlow needs\r\n",
    "def to_xy(df, target):\r\n",
    "    result = []\r\n",
    "    for x in df.columns:\r\n",
    "        if x != target:\r\n",
    "            result.append(x)\r\n",
    "    # find out the type of the target column. \r\n",
    "    target_type = df[target].dtypes\r\n",
    "    target_type = target_type[0] if isinstance(target_type, Sequence) else target_type\r\n",
    "    # Encode to int for classification, float otherwise. TensorFlow likes 32 bits.\r\n",
    "    if target_type in (np.int64, np.int32):\r\n",
    "        # Classification\r\n",
    "        dummies = pd.get_dummies(df[target])\r\n",
    "        return df[result].values.astype(np.float32), dummies.values.astype(np.float32)\r\n",
    "    else:\r\n",
    "        # Regression\r\n",
    "        return df[result].values.astype(np.float32), df[target].values.astype(np.float32)\r\n",
    "\r\n",
    "# Nicely formatted time string\r\n",
    "def hms_string(sec_elapsed):\r\n",
    "    h = int(sec_elapsed / (60 * 60))\r\n",
    "    m = int((sec_elapsed % (60 * 60)) / 60)\r\n",
    "    s = sec_elapsed % 60\r\n",
    "    return \"{}:{:>02}:{:>05.2f}\".format(h, m, s)\r\n",
    "\r\n",
    "\r\n",
    "# Regression chart.\r\n",
    "def chart_regression(pred,y,sort=True):\r\n",
    "    t = pd.DataFrame({'pred' : pred, 'y' : y.flatten()})\r\n",
    "    if sort:\r\n",
    "        t.sort_values(by=['y'],inplace=True)\r\n",
    "    a = plt.plot(t['y'].tolist(),label='expected')\r\n",
    "    b = plt.plot(t['pred'].tolist(),label='prediction')\r\n",
    "    plt.ylabel('output')\r\n",
    "    plt.legend()\r\n",
    "    plt.show()\r\n",
    "\r\n",
    "# Remove all rows where the specified column is +/- sd standard deviations\r\n",
    "def remove_outliers(df, name, sd):\r\n",
    "    drop_rows = df.index[(np.abs(df[name] - df[name].mean()) >= (sd * df[name].std()))]\r\n",
    "    df.drop(drop_rows, axis=0, inplace=True)\r\n",
    "\r\n",
    "\r\n",
    "# Encode a column to a range between normalized_low and normalized_high.\r\n",
    "def encode_numeric_range(df, name, normalized_low=-1, normalized_high=1,\r\n",
    "                         data_low=None, data_high=None):\r\n",
    "    if data_low is None:\r\n",
    "        data_low = min(df[name])\r\n",
    "        data_high = max(df[name])\r\n",
    "\r\n",
    "    df[name] = ((df[name] - data_low) / (data_high - data_low)) \\\r\n",
    "               * (normalized_high - normalized_low) + normalized_low"
   ],
   "outputs": [],
   "metadata": {}
  },
  {
   "cell_type": "code",
   "execution_count": 13,
   "source": [
    "import tensorflow as tf\r\n",
    "print(\"Num GPUs Available: \", len(tf.config.list_physical_devices('GPU')))\r\n",
    "print(tf.test.gpu_device_name())"
   ],
   "outputs": [
    {
     "output_type": "stream",
     "name": "stdout",
     "text": [
      "Num GPUs Available:  0\n",
      "\n"
     ]
    }
   ],
   "metadata": {}
  },
  {
   "cell_type": "code",
   "execution_count": 204,
   "source": [
    "# Split into train/test\r\n",
    "from tensorflow.keras.callbacks import ModelCheckpoint\r\n",
    "%matplotlib inline\r\n",
    "import matplotlib.pyplot as plt\r\n",
    "from matplotlib.pyplot import figure, show\r\n",
    "\r\n",
    "model = Sequential()\r\n",
    "model.add(Dense(20, input_dim=tfidf_data.shape[1], activation='relu'))\r\n",
    "model.add(Dense(10))\r\n",
    "\r\n",
    "model.add(Dense(1))  # 1 output neuron \r\n",
    "\r\n",
    "model.compile(loss='mean_squared_error', optimizer='adam')\r\n",
    "\r\n",
    "monitor = EarlyStopping(monitor='val_loss', min_delta=1e-3, patience=5, verbose=1, mode='auto')\r\n",
    "checkpointer = ModelCheckpoint(filepath=\"dnn/best_weights.hdf5\", verbose=0, save_best_only=True) # save best model\r\n",
    "\r\n",
    "model.fit(x_train,y_train, validation_data=(x_test,y_test),callbacks=[monitor, checkpointer],verbose=2,epochs=100)\r\n",
    "model.load_weights('dnn/best_weights.hdf5') # load weights from best model\r\n"
   ],
   "outputs": [
    {
     "output_type": "stream",
     "name": "stdout",
     "text": [
      "Epoch 1/100\n",
      "1826/1826 - 2s - loss: 0.4253 - val_loss: 0.0737\n",
      "Epoch 2/100\n",
      "1826/1826 - 2s - loss: 0.0648 - val_loss: 0.0598\n",
      "Epoch 3/100\n",
      "1826/1826 - 2s - loss: 0.0570 - val_loss: 0.0570\n",
      "Epoch 4/100\n",
      "1826/1826 - 2s - loss: 0.0546 - val_loss: 0.0569\n",
      "Epoch 5/100\n",
      "1826/1826 - 2s - loss: 0.0533 - val_loss: 0.0556\n",
      "Epoch 6/100\n",
      "1826/1826 - 2s - loss: 0.0521 - val_loss: 0.0566\n",
      "Epoch 7/100\n",
      "1826/1826 - 2s - loss: 0.0508 - val_loss: 0.0580\n",
      "Epoch 8/100\n",
      "1826/1826 - 2s - loss: 0.0504 - val_loss: 0.0558\n",
      "Epoch 9/100\n",
      "1826/1826 - 2s - loss: 0.0498 - val_loss: 0.0554\n",
      "Epoch 10/100\n",
      "1826/1826 - 2s - loss: 0.0494 - val_loss: 0.0554\n",
      "Epoch 00010: early stopping\n"
     ]
    }
   ],
   "metadata": {}
  },
  {
   "cell_type": "code",
   "execution_count": 205,
   "source": [
    "#predicting\r\n",
    "pred = model.predict(x_test)"
   ],
   "outputs": [],
   "metadata": {}
  },
  {
   "cell_type": "code",
   "execution_count": 206,
   "source": [
    "# Measure MSE error.  \r\n",
    "score = metrics.mean_squared_error(pred,y_test)\r\n",
    "print(\"Final score (MSE): {}\".format(score))\r\n",
    "# Measure RMSE error.  RMSE is common for regression.\r\n",
    "score = np.sqrt(metrics.mean_squared_error(pred,y_test))\r\n",
    "print(\"Final score (RMSE): {}\".format(score))\r\n",
    "\r\n",
    "# Plot the chart\r\n",
    "chart_regression(pred.flatten(),y_test, sort=True)"
   ],
   "outputs": [
    {
     "output_type": "stream",
     "name": "stdout",
     "text": [
      "Final score (MSE): 0.05536085806710012\n",
      "Final score (RMSE): 0.2352888821578702\n"
     ]
    },
    {
     "output_type": "display_data",
     "data": {
      "image/png": "[encoded data removed]",
      "text/plain": [
       "<Figure size 432x288 with 1 Axes>"
      ]
     },
     "metadata": {
      "needs_background": "light"
     }
    }
   ],
   "metadata": {}
  },
  {
   "cell_type": "code",
   "execution_count": 207,
   "source": [
    "column_names = ['business_id', 'name', 'stars']\r\n",
    "\r\n",
    "pred_df = pd.DataFrame(index= range(5), columns = column_names)\r\n",
    "\r\n",
    "random_numbers = np.random.choice(tfidf_data.shape[0], 5)\r\n",
    "print(random_numbers)\r\n",
    "random_business_data = tfidf_data[np.random.choice(tfidf_data.shape[0], 5)]\r\n",
    "pred5 = model.predict(random_business_data)\r\n"
   ],
   "outputs": [
    {
     "output_type": "stream",
     "name": "stdout",
     "text": [
      "[28613 53124 37150 48217  2548]\n"
     ]
    }
   ],
   "metadata": {}
  },
  {
   "cell_type": "code",
   "execution_count": 208,
   "source": [
    "pred_df['index'] = random_numbers\r\n",
    "pred_df['predicted_stars'] = pred5\r\n",
    "for i in range(5):\r\n",
    "    pred_df['business_id'][i] = bus_reviewagg_staravg_df.loc[random_numbers[i], 'business_id']\r\n",
    "    pred_df['name'][i] = bus_reviewagg_staravg_df.loc[random_numbers[i], 'name']\r\n",
    "    pred_df['stars'][i] = bus_reviewagg_staravg_df.loc[random_numbers[i], 'stars']\r\n",
    "print(pred_df.head())"
   ],
   "outputs": [
    {
     "output_type": "stream",
     "name": "stdout",
     "text": [
      "              business_id                              name     stars  index  \\\n",
      "0  NkOmKD_6KPMPD2NRAD-TEw          b'Good Carma Automotive'  4.742857  28613   \n",
      "1  iRk6W68B2LDZTUkKNmyngw                  b'The Mad Greek'   4.02439  53124   \n",
      "2  VND3KOtBF5tb-AxeKNy71g     b\"Jimmy's Pizza & Restaurant\"  4.185185  37150   \n",
      "3  e4eGo6FWJGVeNWpk2aX-Zw  b'Nationwide Security Solutions'      1.36  48217   \n",
      "4  1EqU3wlAS1wgGQvYVl8UuQ            b'Flying Pie Pizzeria'  3.834123   2548   \n",
      "\n",
      "   predicted_stars  \n",
      "0         4.240113  \n",
      "1         3.658307  \n",
      "2         3.625733  \n",
      "3         2.947861  \n",
      "4         2.933656  \n"
     ]
    },
    {
     "output_type": "stream",
     "name": "stderr",
     "text": [
      "<ipython-input-208-8301cd265ea5>:4: SettingWithCopyWarning: \n",
      "A value is trying to be set on a copy of a slice from a DataFrame\n",
      "\n",
      "See the caveats in the documentation: https://pandas.pydata.org/pandas-docs/stable/user_guide/indexing.html#returning-a-view-versus-a-copy\n",
      "  pred_df['business_id'][i] = bus_reviewagg_staravg_df.loc[random_numbers[i], 'business_id']\n",
      "<ipython-input-208-8301cd265ea5>:5: SettingWithCopyWarning: \n",
      "A value is trying to be set on a copy of a slice from a DataFrame\n",
      "\n",
      "See the caveats in the documentation: https://pandas.pydata.org/pandas-docs/stable/user_guide/indexing.html#returning-a-view-versus-a-copy\n",
      "  pred_df['name'][i] = bus_reviewagg_staravg_df.loc[random_numbers[i], 'name']\n",
      "<ipython-input-208-8301cd265ea5>:6: SettingWithCopyWarning: \n",
      "A value is trying to be set on a copy of a slice from a DataFrame\n",
      "\n",
      "See the caveats in the documentation: https://pandas.pydata.org/pandas-docs/stable/user_guide/indexing.html#returning-a-view-versus-a-copy\n",
      "  pred_df['stars'][i] = bus_reviewagg_staravg_df.loc[random_numbers[i], 'stars']\n"
     ]
    }
   ],
   "metadata": {}
  }
 ],
 "metadata": {
  "interpreter": {
   "hash": "00d97aa7742505a1d40e72afe88795d34a7c326375c01286fdda43484fe6d6dd"
  },
  "kernelspec": {
   "name": "python3",
   "display_name": "Python 3.8.8 64-bit ('base': conda)"
  },
  "language_info": {
   "codemirror_mode": {
    "name": "ipython",
    "version": 3
   },
   "file_extension": ".py",
   "mimetype": "text/x-python",
   "name": "python",
   "nbconvert_exporter": "python",
   "pygments_lexer": "ipython3",
   "version": "3.8.8"
  }
 },
 "nbformat": 4,
 "nbformat_minor": 2
}